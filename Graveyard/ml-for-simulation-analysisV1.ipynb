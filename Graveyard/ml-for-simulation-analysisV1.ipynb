{
 "cells": [
  {
   "cell_type": "code",
   "execution_count": 1,
   "id": "45fcf9ef-096e-4e16-9b26-56f9bc75ef27",
   "metadata": {
    "execution": {
     "iopub.execute_input": "2024-11-05T16:03:45.789454Z",
     "iopub.status.busy": "2024-11-05T16:03:45.788840Z",
     "iopub.status.idle": "2024-11-05T16:03:47.467678Z",
     "shell.execute_reply": "2024-11-05T16:03:47.467245Z",
     "shell.execute_reply.started": "2024-11-05T16:03:45.789425Z"
    }
   },
   "outputs": [],
   "source": [
    "# Some ideas for using ML to analyze simulation outputs\n",
    "#\n",
    "# Alan Walker, September 2024\n",
    "# (c) PassengerSim LLC\n",
    "#\n",
    "from collections import defaultdict\n",
    "import os\n",
    "import passengersim as pax\n",
    "import time\n",
    "import pandas as pd\n",
    "import matplotlib.pyplot as plt\n",
    "from passengersim.utils.tempdir import TemporaryDirectory\n",
    "tempdir = TemporaryDirectory()"
   ]
  },
  {
   "cell_type": "code",
   "execution_count": 2,
   "id": "57916c90-920f-464f-b70a-c78aca6bd246",
   "metadata": {
    "execution": {
     "iopub.execute_input": "2024-11-05T16:03:49.087856Z",
     "iopub.status.busy": "2024-11-05T16:03:49.087067Z",
     "iopub.status.idle": "2024-11-05T16:03:49.277611Z",
     "shell.execute_reply": "2024-11-05T16:03:49.277165Z",
     "shell.execute_reply.started": "2024-11-05T16:03:49.087825Z"
    }
   },
   "outputs": [
    {
     "ename": "FileNotFoundError",
     "evalue": "[Errno 2] No such file or directory: '/Users/alanw/projects/pxsim-clean/passengersim-core/networks/u10-network.yaml'",
     "output_type": "error",
     "traceback": [
      "\u001b[0;31m---------------------------------------------------------------------------\u001b[0m",
      "\u001b[0;31mFileNotFoundError\u001b[0m                         Traceback (most recent call last)",
      "Cell \u001b[0;32mIn[2], line 11\u001b[0m\n\u001b[1;32m      9\u001b[0m     places_file \u001b[38;5;241m=\u001b[39m pax\u001b[38;5;241m.\u001b[39mdemo_network(\u001b[38;5;124m\"\u001b[39m\u001b[38;5;124m/Users/alanw/projects/pxsim-clean/passengersim-core/networks/u10-places\u001b[39m\u001b[38;5;124m\"\u001b[39m)\n\u001b[1;32m     10\u001b[0m     control_file \u001b[38;5;241m=\u001b[39m pax\u001b[38;5;241m.\u001b[39mdemo_network(\u001b[38;5;124m\"\u001b[39m\u001b[38;5;124m/Users/alanw/projects/pxsim-clean/passengersim-core/networks/u10-aw\u001b[39m\u001b[38;5;124m\"\u001b[39m)\n\u001b[0;32m---> 11\u001b[0m     cfg \u001b[38;5;241m=\u001b[39m \u001b[43mpax\u001b[49m\u001b[38;5;241;43m.\u001b[39;49m\u001b[43mConfig\u001b[49m\u001b[38;5;241;43m.\u001b[39;49m\u001b[43mfrom_yaml\u001b[49m\u001b[43m(\u001b[49m\u001b[43m[\u001b[49m\u001b[43mnetwork_file\u001b[49m\u001b[43m,\u001b[49m\u001b[43m \u001b[49m\u001b[43mrm_file\u001b[49m\u001b[43m,\u001b[49m\u001b[43m \u001b[49m\u001b[43mplaces_file\u001b[49m\u001b[43m,\u001b[49m\u001b[43m \u001b[49m\u001b[43mcontrol_file\u001b[49m\u001b[43m]\u001b[49m\u001b[43m)\u001b[49m\n\u001b[1;32m     12\u001b[0m cfg\u001b[38;5;241m.\u001b[39msimulation_controls\u001b[38;5;241m.\u001b[39mrandom_seed \u001b[38;5;241m=\u001b[39m \u001b[38;5;241m42\u001b[39m\n",
      "File \u001b[0;32m~/miniconda3/envs/SKY/lib/python3.12/site-packages/passengersim/config/base.py:149\u001b[0m, in \u001b[0;36mYamlConfig.from_yaml\u001b[0;34m(cls, filenames)\u001b[0m\n\u001b[1;32m    130\u001b[0m \u001b[38;5;129m@classmethod\u001b[39m\n\u001b[1;32m    131\u001b[0m \u001b[38;5;28;01mdef\u001b[39;00m \u001b[38;5;21mfrom_yaml\u001b[39m(\n\u001b[1;32m    132\u001b[0m     \u001b[38;5;28mcls\u001b[39m: \u001b[38;5;28mtype\u001b[39m[TConfig],\n\u001b[1;32m    133\u001b[0m     filenames: pathlib\u001b[38;5;241m.\u001b[39mPath \u001b[38;5;241m|\u001b[39m \u001b[38;5;28mlist\u001b[39m[pathlib\u001b[38;5;241m.\u001b[39mPath],\n\u001b[1;32m    134\u001b[0m ) \u001b[38;5;241m-\u001b[39m\u001b[38;5;241m>\u001b[39m TConfig:\n\u001b[1;32m    135\u001b[0m \u001b[38;5;250m    \u001b[39m\u001b[38;5;124;03m\"\"\"\u001b[39;00m\n\u001b[1;32m    136\u001b[0m \u001b[38;5;124;03m    Read from YAML.\u001b[39;00m\n\u001b[1;32m    137\u001b[0m \n\u001b[0;32m   (...)\u001b[0m\n\u001b[1;32m    147\u001b[0m \u001b[38;5;124;03m    Config\u001b[39;00m\n\u001b[1;32m    148\u001b[0m \u001b[38;5;124;03m    \"\"\"\u001b[39;00m\n\u001b[0;32m--> 149\u001b[0m     raw_config \u001b[38;5;241m=\u001b[39m \u001b[38;5;28;43mcls\u001b[39;49m\u001b[38;5;241;43m.\u001b[39;49m\u001b[43m_load_unformatted_yaml\u001b[49m\u001b[43m(\u001b[49m\u001b[43mfilenames\u001b[49m\u001b[43m)\u001b[49m\n\u001b[1;32m    150\u001b[0m     \u001b[38;5;28;01mreturn\u001b[39;00m \u001b[38;5;28mcls\u001b[39m\u001b[38;5;241m.\u001b[39mmodel_validate(raw_config\u001b[38;5;241m.\u001b[39mto_dict())\n",
      "File \u001b[0;32m~/miniconda3/envs/SKY/lib/python3.12/site-packages/passengersim/config/base.py:114\u001b[0m, in \u001b[0;36mYamlConfig._load_unformatted_yaml\u001b[0;34m(cls, filenames)\u001b[0m\n\u001b[1;32m    112\u001b[0m \u001b[38;5;28;01mif\u001b[39;00m \u001b[38;5;28misinstance\u001b[39m(filename, OptionalPath) \u001b[38;5;129;01mand\u001b[39;00m \u001b[38;5;129;01mnot\u001b[39;00m filename\u001b[38;5;241m.\u001b[39mexists():\n\u001b[1;32m    113\u001b[0m     \u001b[38;5;28;01mcontinue\u001b[39;00m\n\u001b[0;32m--> 114\u001b[0m \u001b[38;5;28;01mwith\u001b[39;00m \u001b[43mopener\u001b[49m\u001b[43m(\u001b[49m\u001b[43mfilename\u001b[49m\u001b[43m)\u001b[49m \u001b[38;5;28;01mas\u001b[39;00m f:\n\u001b[1;32m    115\u001b[0m     content \u001b[38;5;241m=\u001b[39m addicty\u001b[38;5;241m.\u001b[39mDict\u001b[38;5;241m.\u001b[39mload(\n\u001b[1;32m    116\u001b[0m         f, freeze\u001b[38;5;241m=\u001b[39m\u001b[38;5;28;01mFalse\u001b[39;00m, Loader\u001b[38;5;241m=\u001b[39myaml\u001b[38;5;241m.\u001b[39mCSafeLoader\n\u001b[1;32m    117\u001b[0m     )\n\u001b[1;32m    118\u001b[0m     include \u001b[38;5;241m=\u001b[39m content\u001b[38;5;241m.\u001b[39mpop(\u001b[38;5;124m\"\u001b[39m\u001b[38;5;124minclude\u001b[39m\u001b[38;5;124m\"\u001b[39m, \u001b[38;5;28;01mNone\u001b[39;00m)\n",
      "\u001b[0;31mFileNotFoundError\u001b[0m: [Errno 2] No such file or directory: '/Users/alanw/projects/pxsim-clean/passengersim-core/networks/u10-network.yaml'"
     ]
    }
   ],
   "source": [
    "# Load data\n",
    "scenario = os.getenv(\"paxsim_scenario\", \"U10\")\n",
    "if scenario == \"3MKT\":\n",
    "    input_file = pax.demo_network(\"3mkt-aw\")\n",
    "    cfg = pax.Config.from_yaml(input_file)\n",
    "elif scenario == \"U10\":\n",
    "    network_file = pax.demo_network(\"/Users/alanw/projects/pxsim-clean/passengersim-core/networks/u10-network\")\n",
    "    rm_file = pax.demo_network(\"/Users/alanw/projects/pxsim-clean/passengersim-core/networks/rm-systems\")\n",
    "    places_file = pax.demo_network(\"/Users/alanw/projects/pxsim-clean/passengersim-core/networks/u10-places\")\n",
    "    control_file = pax.demo_network(\"/Users/alanw/projects/pxsim-clean/passengersim-core/networks/u10-aw\")\n",
    "    cfg = pax.Config.from_yaml([network_file, rm_file, places_file, control_file])\n",
    "cfg.simulation_controls.random_seed = 42"
   ]
  },
  {
   "cell_type": "code",
   "execution_count": 3,
   "id": "2b0ffd74-4b6a-46de-ad96-4b0ecb0b098b",
   "metadata": {},
   "outputs": [
    {
     "data": {
      "application/vnd.jupyter.widget-view+json": {
       "model_id": "",
       "version_major": 2,
       "version_minor": 0
      },
      "text/plain": [
       "Output()"
      ]
     },
     "metadata": {},
     "output_type": "display_data"
    },
    {
     "data": {
      "text/html": [
       "<pre style=\"white-space:pre;overflow-x:auto;line-height:normal;font-family:Menlo,'DejaVu Sans Mono',consolas,'Courier New',monospace\"></pre>\n"
      ],
      "text/plain": []
     },
     "metadata": {},
     "output_type": "display_data"
    },
    {
     "data": {
      "text/html": [
       "<pre style=\"white-space:pre;overflow-x:auto;line-height:normal;font-family:Menlo,'DejaVu Sans Mono',consolas,'Courier New',monospace\">\n",
       "</pre>\n"
      ],
      "text/plain": [
       "\n"
      ]
     },
     "metadata": {},
     "output_type": "display_data"
    },
    {
     "data": {
      "text/html": [
       "<pre style=\"white-space:pre;overflow-x:auto;line-height:normal;font-family:Menlo,'DejaVu Sans Mono',consolas,'Courier New',monospace\">Task Completed after <span style=\"color: #008080; text-decoration-color: #008080; font-weight: bold\">43.83</span> seconds\n",
       "</pre>\n"
      ],
      "text/plain": [
       "Task Completed after \u001b[1;36m43.83\u001b[0m seconds\n"
      ]
     },
     "metadata": {},
     "output_type": "display_data"
    }
   ],
   "source": [
    "# Get the base case\n",
    "cfg.simulation_controls.sys_k_factor = 0.1\n",
    "cfg.simulation_controls.mkt_k_factor = 0.2\n",
    "cfg.simulation_controls.simple_k_factor = 0.4\n",
    "cfg.simulation_controls.pax_type_k_factor = 0.4\n",
    "\n",
    "# These are set low for now, just to keep run times down while I'm playing\n",
    "cfg.simulation_controls.num_trials = 1\n",
    "cfg.simulation_controls.num_samples = 60\n",
    "cfg.simulation_controls.burn_samples = 30\n",
    "\n",
    "cfg.simulation_controls.tf_z_factor = 2.0\n",
    "\n",
    "cfg.carriers['AL1'].truncation_rule = 1\n",
    "cfg.carriers['AL2'].truncation_rule = 1\n",
    "cfg.carriers['AL3'].truncation_rule = 1\n",
    "cfg.carriers['AL4'].truncation_rule = 1\n",
    "\n",
    "summary_eeee = pax.Simulation(cfg).run()"
   ]
  },
  {
   "cell_type": "code",
   "execution_count": 6,
   "id": "03a84f5d-2586-4a4a-aae1-704585785c34",
   "metadata": {},
   "outputs": [
    {
     "data": {
      "application/vnd.jupyter.widget-view+json": {
       "model_id": "",
       "version_major": 2,
       "version_minor": 0
      },
      "text/plain": [
       "Output()"
      ]
     },
     "metadata": {},
     "output_type": "display_data"
    },
    {
     "data": {
      "text/html": [
       "<pre style=\"white-space:pre;overflow-x:auto;line-height:normal;font-family:Menlo,'DejaVu Sans Mono',consolas,'Courier New',monospace\"></pre>\n"
      ],
      "text/plain": []
     },
     "metadata": {},
     "output_type": "display_data"
    },
    {
     "data": {
      "text/html": [
       "<pre style=\"white-space:pre;overflow-x:auto;line-height:normal;font-family:Menlo,'DejaVu Sans Mono',consolas,'Courier New',monospace\">\n",
       "</pre>\n"
      ],
      "text/plain": [
       "\n"
      ]
     },
     "metadata": {},
     "output_type": "display_data"
    },
    {
     "data": {
      "text/html": [
       "<pre style=\"white-space:pre;overflow-x:auto;line-height:normal;font-family:Menlo,'DejaVu Sans Mono',consolas,'Courier New',monospace\">Task Completed after <span style=\"color: #008080; text-decoration-color: #008080; font-weight: bold\">259.01</span> seconds\n",
       "</pre>\n"
      ],
      "text/plain": [
       "Task Completed after \u001b[1;36m259.01\u001b[0m seconds\n"
      ]
     },
     "metadata": {},
     "output_type": "display_data"
    }
   ],
   "source": [
    "cfg.carriers.AL1.rm_system = \"rm_udp\"\n",
    "summary_ueee = pax.Simulation(cfg).run()"
   ]
  },
  {
   "cell_type": "code",
   "execution_count": 7,
   "id": "4057ba5d-4dcb-49cd-b72e-ba4b31d990f8",
   "metadata": {},
   "outputs": [
    {
     "data": {
      "text/html": [
       "<div>\n",
       "<style scoped>\n",
       "    .dataframe tbody tr th:only-of-type {\n",
       "        vertical-align: middle;\n",
       "    }\n",
       "\n",
       "    .dataframe tbody tr th {\n",
       "        vertical-align: top;\n",
       "    }\n",
       "\n",
       "    .dataframe thead th {\n",
       "        text-align: right;\n",
       "    }\n",
       "</style>\n",
       "<table border=\"1\" class=\"dataframe\">\n",
       "  <thead>\n",
       "    <tr style=\"text-align: right;\">\n",
       "      <th></th>\n",
       "      <th>control</th>\n",
       "      <th>avg_rev</th>\n",
       "      <th>avg_sold</th>\n",
       "      <th>truncation_rule</th>\n",
       "      <th>avg_leg_lf</th>\n",
       "      <th>asm</th>\n",
       "      <th>rpm</th>\n",
       "      <th>ancillary_rev</th>\n",
       "      <th>avg_price</th>\n",
       "      <th>yield</th>\n",
       "      <th>sys_lf</th>\n",
       "    </tr>\n",
       "    <tr>\n",
       "      <th>carrier</th>\n",
       "      <th></th>\n",
       "      <th></th>\n",
       "      <th></th>\n",
       "      <th></th>\n",
       "      <th></th>\n",
       "      <th></th>\n",
       "      <th></th>\n",
       "      <th></th>\n",
       "      <th></th>\n",
       "      <th></th>\n",
       "      <th></th>\n",
       "    </tr>\n",
       "  </thead>\n",
       "  <tbody>\n",
       "    <tr>\n",
       "      <th>AL1</th>\n",
       "      <td>bp</td>\n",
       "      <td>3.049927e+06</td>\n",
       "      <td>9005.733333</td>\n",
       "      <td>1</td>\n",
       "      <td>74.477019</td>\n",
       "      <td>28588660.0</td>\n",
       "      <td>2.228217e+07</td>\n",
       "      <td>0.0</td>\n",
       "      <td>338.665077</td>\n",
       "      <td>0.136877</td>\n",
       "      <td>77.940586</td>\n",
       "    </tr>\n",
       "    <tr>\n",
       "      <th>AL2</th>\n",
       "      <td>leg</td>\n",
       "      <td>2.348643e+06</td>\n",
       "      <td>8400.133333</td>\n",
       "      <td>1</td>\n",
       "      <td>74.790826</td>\n",
       "      <td>23357790.0</td>\n",
       "      <td>1.974645e+07</td>\n",
       "      <td>0.0</td>\n",
       "      <td>279.595874</td>\n",
       "      <td>0.118940</td>\n",
       "      <td>84.539033</td>\n",
       "    </tr>\n",
       "    <tr>\n",
       "      <th>AL3</th>\n",
       "      <td>leg</td>\n",
       "      <td>9.952435e+05</td>\n",
       "      <td>5767.700000</td>\n",
       "      <td>1</td>\n",
       "      <td>79.289985</td>\n",
       "      <td>10003770.0</td>\n",
       "      <td>8.474606e+06</td>\n",
       "      <td>0.0</td>\n",
       "      <td>172.554655</td>\n",
       "      <td>0.117438</td>\n",
       "      <td>84.714119</td>\n",
       "    </tr>\n",
       "    <tr>\n",
       "      <th>AL4</th>\n",
       "      <td>leg</td>\n",
       "      <td>1.742670e+06</td>\n",
       "      <td>6055.066667</td>\n",
       "      <td>1</td>\n",
       "      <td>75.938562</td>\n",
       "      <td>16411000.0</td>\n",
       "      <td>1.372994e+07</td>\n",
       "      <td>0.0</td>\n",
       "      <td>287.803684</td>\n",
       "      <td>0.126925</td>\n",
       "      <td>83.663050</td>\n",
       "    </tr>\n",
       "  </tbody>\n",
       "</table>\n",
       "</div>"
      ],
      "text/plain": [
       "        control       avg_rev     avg_sold  truncation_rule  avg_leg_lf  \\\n",
       "carrier                                                                   \n",
       "AL1          bp  3.049927e+06  9005.733333                1   74.477019   \n",
       "AL2         leg  2.348643e+06  8400.133333                1   74.790826   \n",
       "AL3         leg  9.952435e+05  5767.700000                1   79.289985   \n",
       "AL4         leg  1.742670e+06  6055.066667                1   75.938562   \n",
       "\n",
       "                asm           rpm  ancillary_rev   avg_price     yield  \\\n",
       "carrier                                                                  \n",
       "AL1      28588660.0  2.228217e+07            0.0  338.665077  0.136877   \n",
       "AL2      23357790.0  1.974645e+07            0.0  279.595874  0.118940   \n",
       "AL3      10003770.0  8.474606e+06            0.0  172.554655  0.117438   \n",
       "AL4      16411000.0  1.372994e+07            0.0  287.803684  0.126925   \n",
       "\n",
       "            sys_lf  \n",
       "carrier             \n",
       "AL1      77.940586  \n",
       "AL2      84.539033  \n",
       "AL3      84.714119  \n",
       "AL4      83.663050  "
      ]
     },
     "execution_count": 7,
     "metadata": {},
     "output_type": "execute_result"
    }
   ],
   "source": [
    "#summary_ueee.cnx.close()\n",
    "summary_ueee.carriers"
   ]
  },
  {
   "cell_type": "code",
   "execution_count": 8,
   "id": "c7efe6bc-09bb-41dd-93a3-8ba1ecc459b7",
   "metadata": {},
   "outputs": [
    {
     "data": {
      "text/plain": [
       "carrier\n",
       "AL1    0.630100\n",
       "AL2    1.529145\n",
       "AL3   -0.146894\n",
       "AL4    0.438752\n",
       "Name: avg_rev, dtype: float64"
      ]
     },
     "execution_count": 8,
     "metadata": {},
     "output_type": "execute_result"
    }
   ],
   "source": [
    "100.0 * (summary_ueee.carriers.avg_rev - summary_eeee.carriers.avg_rev) / summary_eeee.carriers.avg_rev"
   ]
  },
  {
   "cell_type": "code",
   "execution_count": 13,
   "id": "13c47ec4-1312-4bd6-bd13-c72c045b9fd2",
   "metadata": {},
   "outputs": [
    {
     "name": "stderr",
     "output_type": "stream",
     "text": [
      "/var/folders/1g/35_cq1b55hs6txctxdnm5nkr0000gn/T/ipykernel_49768/814343317.py:9: UserWarning: pandas only supports SQLAlchemy connectable (engine/connection) or database string URI or sqlite3 DBAPI2 connection. Other DBAPI2 objects are not tested. Please consider using SQLAlchemy.\n",
      "  df_sold_ueee = pd.read_sql_query(sql, summary_ueee.cnx, index_col=[\"sample\"])\n"
     ]
    }
   ],
   "source": [
    "# Get sold and sold_priceable \n",
    "import pandas as pd\n",
    "import matplotlib.pyplot as plt\n",
    "sql = \"\"\"SELECT sample, SUM(sold) AS sold, SUM(sold_priceable) AS sold_priceable\n",
    "         FROM path_class_detail d\n",
    "         JOIN path_defs p USING(path_id)\n",
    "         WHERE p.carrier = 'AL1' AND trial = 0 AND days_prior = 1 AND sample > 100\n",
    "         GROUP BY sample ORDER BY sample\"\"\"\n",
    "df_sold_ueee = pd.read_sql_query(sql, summary_ueee.cnx, index_col=[\"sample\"])\n",
    "summary_ueee.cnx.close()"
   ]
  },
  {
   "cell_type": "code",
   "execution_count": 21,
   "id": "41244a16-1d44-4c52-b902-1e6af30d453d",
   "metadata": {
    "collapsed": true,
    "jupyter": {
     "outputs_hidden": true,
     "source_hidden": true
    }
   },
   "outputs": [
    {
     "data": {
      "text/plain": [
       "np.float64(-5882.034359999998)"
      ]
     },
     "execution_count": 21,
     "metadata": {},
     "output_type": "execute_result"
    }
   ],
   "source": [
    "# What's the difference in revenue for each airline?\n",
    "diff = summary_peee.carrier_history.revenue - summary_eeee.carrier_history.revenue\n",
    "diff.AL4.mean()"
   ]
  },
  {
   "cell_type": "code",
   "execution_count": 11,
   "id": "7bbecdd5-3ac2-4c93-ae5f-7994f349b9e6",
   "metadata": {},
   "outputs": [
    {
     "data": {
      "text/plain": [
       "np.float64(0.6300995832056981)"
      ]
     },
     "execution_count": 11,
     "metadata": {},
     "output_type": "execute_result"
    },
    {
     "data": {
      "image/png": "[encoded data removed]",
      "text/plain": [
       "<Figure size 640x480 with 1 Axes>"
      ]
     },
     "metadata": {},
     "output_type": "display_data"
    }
   ],
   "source": [
    "# Create a histogram of Percentage improvement for an airline\n",
    "import matplotlib.pyplot as plt\n",
    "tgt = \"AL1\"\n",
    "avg_rev = summary_eeee.carrier_history2.revenue[tgt].mean()\n",
    "pct = 100.0 * (summary_ueee.carrier_history2.revenue[tgt] - summary_eeee.carrier_history2.revenue[tgt]) / avg_rev\n",
    "plt.hist(pct, bins=8)\n",
    "plt.show\n",
    "pct.mean()"
   ]
  },
  {
   "cell_type": "code",
   "execution_count": 13,
   "id": "e468e99f-a368-4a82-9ea6-1712b797478f",
   "metadata": {},
   "outputs": [
    {
     "data": {
      "image/png": "[encoded data removed]",
      "text/plain": [
       "<Figure size 640x480 with 1 Axes>"
      ]
     },
     "metadata": {},
     "output_type": "display_data"
    }
   ],
   "source": [
    "# Function to plot a histogram with the negatives in red and the positives in green\n",
    "# Adapted from Maitreyee's code, still not quite as generic as I'd like but it's working for now\n",
    "import numpy as np\n",
    "from math import ceil, floor, log10\n",
    "\n",
    "def get_bins(data, num_bins=20):\n",
    "    \"\"\"The goal is to have 'nice' sized bins with a boundary at zero.  This will almost always give\n",
    "       a few more bins than requested, but it makes the graphs look good :-) \"\"\"\n",
    "    min_x = data.min()\n",
    "    max_x = data.max()\n",
    "    width = (max_x - min_x) / num_bins\n",
    "    mults = [0.00001, 0.00002, 0.00005, 0.0001]\n",
    "    while True:\n",
    "        if mults[0] < width < mults[-1]:\n",
    "            break\n",
    "        mults = [m*10 for m in mults]\n",
    "    \n",
    "    # Now get the bin sizes\n",
    "    if mults[0] < width < mults[1]:\n",
    "        m = mults[0]\n",
    "    elif mults[1] < width < mults[2]:\n",
    "        m = mults[1]\n",
    "    elif mults[2] < width < mults[3]:\n",
    "        m = mults[2]\n",
    "\n",
    "    min_x2 = m * floor(min_x / m)\n",
    "    max_x2 = m * ceil(max_x / m)\n",
    "    range2 = max_x2 - min_x2\n",
    "    num_bins2 = int(range2 / m)\n",
    "\n",
    "    bins = np.linspace(min_x2, max_x2, num_bins2+1)\n",
    "    return bins\n",
    "\n",
    "\n",
    "def win_loss_histogram(data, num_bins=5):\n",
    "    min_x = data.min()\n",
    "    max_x = data.max()\n",
    "    width = (max_x - min_x) / num_bins\n",
    "    custom_bins = get_bins(data, num_bins)\n",
    "#    custom_bins = np.linspace(min_x, max_x, num_bins+1)\n",
    "    pos_data, neg_data = data[data >= 0], data[data < 0]\n",
    "    plt.hist(pos_data, bins=custom_bins, color='green', edgecolor='black')\n",
    "    plt.hist(neg_data, bins=custom_bins, color='red', edgecolor='black')\n",
    "    plt.show()\n",
    "\n",
    "win_loss_histogram(pct)\n",
    "    "
   ]
  },
  {
   "cell_type": "code",
   "execution_count": null,
   "id": "29cd9a45-a90f-44bc-abc0-95c81dc241f7",
   "metadata": {},
   "outputs": [],
   "source": []
  },
  {
   "cell_type": "code",
   "execution_count": 15,
   "id": "dbf0db6d-0e30-4a38-a684-164071d80854",
   "metadata": {},
   "outputs": [
    {
     "data": {
      "text/plain": [
       "(11175.6, 20369.733333333334)"
      ]
     },
     "execution_count": 15,
     "metadata": {},
     "output_type": "execute_result"
    }
   ],
   "source": [
    "# Get average leisure and business demand\n",
    "# We only need to get it from one set of results, as we have the\n",
    "# same random seed in each run\n",
    "#\n",
    "from collections import defaultdict\n",
    "dmd_by_seg, dmd = defaultdict(float), defaultdict(float)\n",
    "tot_business, tot_leisure = 0.0, 0.0\n",
    "for idx, row in summary_ueee.demand_to_come.iterrows():\n",
    "    k1 = (idx[1], idx[2], idx[3])  # trial, sample, segment\n",
    "    k2 = (idx[1], idx[2])  # trial, sample\n",
    "    d = float(row.iat[0])\n",
    "    dmd_by_seg[k1] += d\n",
    "    dmd[k2] += d\n",
    "    if idx[3] == \"business\":\n",
    "        tot_business += d\n",
    "    else:\n",
    "        tot_leisure += d\n",
    "# dmd\n",
    "\n",
    "avg_business, avg_leisure = tot_business / len(dmd), tot_leisure / len(dmd)\n",
    "avg_business, avg_leisure"
   ]
  },
  {
   "cell_type": "code",
   "execution_count": 16,
   "id": "8eed5740-a91d-4936-b80a-caca02c24655",
   "metadata": {
    "scrolled": true
   },
   "outputs": [
    {
     "data": {
      "text/html": [
       "<div>\n",
       "<style scoped>\n",
       "    .dataframe tbody tr th:only-of-type {\n",
       "        vertical-align: middle;\n",
       "    }\n",
       "\n",
       "    .dataframe tbody tr th {\n",
       "        vertical-align: top;\n",
       "    }\n",
       "\n",
       "    .dataframe thead th {\n",
       "        text-align: right;\n",
       "    }\n",
       "</style>\n",
       "<table border=\"1\" class=\"dataframe\">\n",
       "  <thead>\n",
       "    <tr style=\"text-align: right;\">\n",
       "      <th></th>\n",
       "      <th>tot_dmd</th>\n",
       "      <th>dmd_b</th>\n",
       "      <th>dmd_l</th>\n",
       "      <th>hi_b</th>\n",
       "      <th>hi_l</th>\n",
       "      <th>hi_both</th>\n",
       "      <th>hi_neither</th>\n",
       "    </tr>\n",
       "  </thead>\n",
       "  <tbody>\n",
       "    <tr>\n",
       "      <th>0</th>\n",
       "      <td>29011.0</td>\n",
       "      <td>9840.0</td>\n",
       "      <td>19171.0</td>\n",
       "      <td>0</td>\n",
       "      <td>0</td>\n",
       "      <td>0</td>\n",
       "      <td>1</td>\n",
       "    </tr>\n",
       "    <tr>\n",
       "      <th>1</th>\n",
       "      <td>28045.0</td>\n",
       "      <td>10441.0</td>\n",
       "      <td>17604.0</td>\n",
       "      <td>0</td>\n",
       "      <td>0</td>\n",
       "      <td>0</td>\n",
       "      <td>1</td>\n",
       "    </tr>\n",
       "    <tr>\n",
       "      <th>2</th>\n",
       "      <td>32755.0</td>\n",
       "      <td>11403.0</td>\n",
       "      <td>21352.0</td>\n",
       "      <td>1</td>\n",
       "      <td>1</td>\n",
       "      <td>1</td>\n",
       "      <td>0</td>\n",
       "    </tr>\n",
       "    <tr>\n",
       "      <th>3</th>\n",
       "      <td>33010.0</td>\n",
       "      <td>11893.0</td>\n",
       "      <td>21117.0</td>\n",
       "      <td>1</td>\n",
       "      <td>1</td>\n",
       "      <td>1</td>\n",
       "      <td>0</td>\n",
       "    </tr>\n",
       "    <tr>\n",
       "      <th>4</th>\n",
       "      <td>26764.0</td>\n",
       "      <td>9711.0</td>\n",
       "      <td>17053.0</td>\n",
       "      <td>0</td>\n",
       "      <td>0</td>\n",
       "      <td>0</td>\n",
       "      <td>1</td>\n",
       "    </tr>\n",
       "  </tbody>\n",
       "</table>\n",
       "</div>"
      ],
      "text/plain": [
       "   tot_dmd    dmd_b    dmd_l  hi_b  hi_l  hi_both  hi_neither\n",
       "0  29011.0   9840.0  19171.0     0     0        0           1\n",
       "1  28045.0  10441.0  17604.0     0     0        0           1\n",
       "2  32755.0  11403.0  21352.0     1     1        1           0\n",
       "3  33010.0  11893.0  21117.0     1     1        1           0\n",
       "4  26764.0   9711.0  17053.0     0     0        0           1"
      ]
     },
     "execution_count": 16,
     "metadata": {},
     "output_type": "execute_result"
    }
   ],
   "source": [
    "# Now compare stuff to get some features for ML\n",
    "# Are business and leisure demands above or below average?\n",
    "# These aren't truly observable in a real-world system, but forecasts might be a good proxy\n",
    "# or priceable vs. yieldable bookings, etc.\n",
    "raw_data = []\n",
    "for key, val in dmd.items():\n",
    "    key_b, key_l = (key[0], key[1], \"business\"), (key[0], key[1], \"leisure\")\n",
    "    dmd_b, dmd_l = dmd_by_seg[key_b], dmd_by_seg[key_l]\n",
    "    hi_b = 1 if dmd_b > avg_business else 0\n",
    "    hi_l = 1 if dmd_l > avg_leisure else 0\n",
    "    hi_both = 1 if hi_b and hi_l else 0\n",
    "    hi_neither = 0 if hi_b or hi_l else 1\n",
    "    # print (key, val, dmd_b, hi_b, dmd_l, hi_l, hi_both, hi_neither)\n",
    "    raw_data.append([val, dmd_b, dmd_l, hi_b, hi_l, hi_both, hi_neither])\n",
    "x_df = pd.DataFrame(raw_data, columns = [\"tot_dmd\", \"dmd_b\", \"dmd_l\", \"hi_b\", \"hi_l\", \"hi_both\", \"hi_neither\"])\n",
    "x_df.head()\n"
   ]
  },
  {
   "cell_type": "code",
   "execution_count": 17,
   "id": "991bcc7d-9a06-458b-b6ad-3b4ff050bedf",
   "metadata": {},
   "outputs": [
    {
     "data": {
      "text/html": [
       "<div>\n",
       "<style scoped>\n",
       "    .dataframe tbody tr th:only-of-type {\n",
       "        vertical-align: middle;\n",
       "    }\n",
       "\n",
       "    .dataframe tbody tr th {\n",
       "        vertical-align: top;\n",
       "    }\n",
       "\n",
       "    .dataframe thead th {\n",
       "        text-align: right;\n",
       "    }\n",
       "</style>\n",
       "<table border=\"1\" class=\"dataframe\">\n",
       "  <thead>\n",
       "    <tr style=\"text-align: right;\">\n",
       "      <th></th>\n",
       "      <th>0</th>\n",
       "    </tr>\n",
       "  </thead>\n",
       "  <tbody>\n",
       "    <tr>\n",
       "      <th>0</th>\n",
       "      <td>0</td>\n",
       "    </tr>\n",
       "    <tr>\n",
       "      <th>1</th>\n",
       "      <td>0</td>\n",
       "    </tr>\n",
       "    <tr>\n",
       "      <th>2</th>\n",
       "      <td>0</td>\n",
       "    </tr>\n",
       "    <tr>\n",
       "      <th>3</th>\n",
       "      <td>1</td>\n",
       "    </tr>\n",
       "    <tr>\n",
       "      <th>4</th>\n",
       "      <td>0</td>\n",
       "    </tr>\n",
       "  </tbody>\n",
       "</table>\n",
       "</div>"
      ],
      "text/plain": [
       "   0\n",
       "0  0\n",
       "1  0\n",
       "2  0\n",
       "3  1\n",
       "4  0"
      ]
     },
     "execution_count": 17,
     "metadata": {},
     "output_type": "execute_result"
    }
   ],
   "source": [
    "# Make it a classification problem\n",
    "# This is a simple above / below zero.  We might try predicting highest or lowest quintile\n",
    "# in a future iteration, or even try a continuous (regression) problem\n",
    "pct2 = [1 if p > 0 else 0 for p in pct]\n",
    "y_df = pd.DataFrame(pct2)\n",
    "y_df.head()"
   ]
  },
  {
   "cell_type": "code",
   "execution_count": 18,
   "id": "aa95a796-3b8c-45d7-8512-a9744916d348",
   "metadata": {},
   "outputs": [
    {
     "name": "stdout",
     "output_type": "stream",
     "text": [
      "Accuracy: 75.00%\n"
     ]
    }
   ],
   "source": [
    "# Try XGBoost\n",
    "from xgboost import XGBClassifier, plot_importance\n",
    "from sklearn.model_selection import train_test_split\n",
    "from sklearn.metrics import accuracy_score\n",
    "x_train, x_test, y_train, y_test = train_test_split(x_df, y_df, test_size=0.25, random_state=42)\n",
    "model = XGBClassifier()\n",
    "model.fit(x_train, y_train)\n",
    "\n",
    "y_pred = model.predict(x_test)\n",
    "predictions = [round(value) for value in y_pred]\n",
    "accuracy = accuracy_score(y_test, predictions)\n",
    "print(\"Accuracy: %.2f%%\" % (accuracy * 100.0))"
   ]
  },
  {
   "cell_type": "code",
   "execution_count": 19,
   "id": "c1d464f9-43ff-41dd-8142-97d7056e1da6",
   "metadata": {},
   "outputs": [
    {
     "data": {
      "text/plain": [
       "<Axes: title={'center': 'Feature importance'}, xlabel='F score', ylabel='Features'>"
      ]
     },
     "execution_count": 19,
     "metadata": {},
     "output_type": "execute_result"
    },
    {
     "data": {
      "image/png": "[encoded data removed]",
      "text/plain": [
       "<Figure size 640x480 with 1 Axes>"
      ]
     },
     "metadata": {},
     "output_type": "display_data"
    }
   ],
   "source": [
    "# What features did it use?\n",
    "plot_importance(model)\n",
    "#plot.show()"
   ]
  },
  {
   "cell_type": "code",
   "execution_count": 20,
   "id": "25e07cc1-28ef-4093-a46d-4f2e8871dc33",
   "metadata": {},
   "outputs": [
    {
     "name": "stdout",
     "output_type": "stream",
     "text": [
      "Accuracy: 0.875\n"
     ]
    }
   ],
   "source": [
    "# Try logistic regression\n",
    "from sklearn.linear_model import LogisticRegression\n",
    "from sklearn import metrics\n",
    "logreg = LogisticRegression(random_state=16, solver=\"liblinear\")\n",
    "logreg.fit(x_train, y_train.values.ravel())\n",
    "y_pred = logreg.predict(x_test)\n",
    "accuracy = metrics.accuracy_score(y_test, y_pred)\n",
    "print(\"Accuracy:\", accuracy)\n"
   ]
  },
  {
   "cell_type": "code",
   "execution_count": 21,
   "id": "f498f7d0-ddc9-4564-87bf-a7d403d697b7",
   "metadata": {},
   "outputs": [
    {
     "data": {
      "image/png": "[encoded data removed]",
      "text/plain": [
       "<Figure size 640x480 with 2 Axes>"
      ]
     },
     "metadata": {},
     "output_type": "display_data"
    }
   ],
   "source": [
    "# Create a confusion matrix\n",
    "cnf_matrix = metrics.confusion_matrix(y_test, y_pred, labels=logreg.classes_, normalize=\"all\")\n",
    "# cnf_matrix\n",
    "disp = metrics.ConfusionMatrixDisplay(confusion_matrix=cnf_matrix,\n",
    "                                      display_labels=logreg.classes_)\n",
    "disp.plot()\n",
    "plt.show()"
   ]
  },
  {
   "cell_type": "code",
   "execution_count": 22,
   "id": "e30e6c7a-3008-4342-a339-7cad97a72e93",
   "metadata": {},
   "outputs": [
    {
     "data": {
      "image/png": "[encoded data removed]",
      "text/plain": [
       "<Figure size 640x480 with 1 Axes>"
      ]
     },
     "metadata": {},
     "output_type": "display_data"
    }
   ],
   "source": [
    "# Create a Receiver Operating Curve (ROC)\n",
    "y_pred_proba = logreg.predict_proba(x_test)[::,1]\n",
    "fpr, tpr, _ = metrics.roc_curve(y_test,  y_pred_proba)\n",
    "auc = metrics.roc_auc_score(y_test, y_pred_proba)\n",
    "plt.plot(fpr,tpr,label=\"data 1, auc=\"+str(auc))\n",
    "plt.legend(loc=4)\n",
    "plt.show()"
   ]
  }
 ],
 "metadata": {
  "kernelspec": {
   "display_name": "Python 3 (ipykernel)",
   "language": "python",
   "name": "python3"
  },
  "language_info": {
   "codemirror_mode": {
    "name": "ipython",
    "version": 3
   },
   "file_extension": ".py",
   "mimetype": "text/x-python",
   "name": "python",
   "nbconvert_exporter": "python",
   "pygments_lexer": "ipython3",
   "version": "3.12.6"
  }
 },
 "nbformat": 4,
 "nbformat_minor": 5
}
